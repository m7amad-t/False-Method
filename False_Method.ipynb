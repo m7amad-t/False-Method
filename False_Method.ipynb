{
  "nbformat": 4,
  "nbformat_minor": 0,
  "metadata": {
    "colab": {
      "provenance": [],
      "authorship_tag": "ABX9TyNss4ySkltGbS45ODSyG5H/",
      "include_colab_link": true
    },
    "kernelspec": {
      "name": "python3",
      "display_name": "Python 3"
    },
    "language_info": {
      "name": "python"
    }
  },
  "cells": [
    {
      "cell_type": "markdown",
      "metadata": {
        "id": "view-in-github",
        "colab_type": "text"
      },
      "source": [
        "<a href=\"https://colab.research.google.com/github/m7amad-t/False-Method/blob/main/False_Method.ipynb\" target=\"_parent\"><img src=\"https://colab.research.google.com/assets/colab-badge.svg\" alt=\"Open In Colab\"/></a>"
      ]
    },
    {
      "cell_type": "code",
      "execution_count": 1,
      "metadata": {
        "colab": {
          "base_uri": "https://localhost:8080/"
        },
        "id": "L-KCllebTOtw",
        "outputId": "9fa20964-a6f3-4b13-ef6a-645524ac42f9"
      },
      "outputs": [
        {
          "output_type": "stream",
          "name": "stdout",
          "text": [
            "The Approximate root is : 1.8932891963044978 \n"
          ]
        }
      ],
      "source": [
        "def falsePoint( fs, fromA , toB ):\n",
        "    fsa = fs(fromA)\n",
        "    fsb = fs(toB)\n",
        "    if fsa * fsb > 0:\n",
        "        print(\"we dont have root in this interval !! !\")\n",
        "        return None\n",
        "\n",
        "    for _ in range(100):\n",
        "        cValue = ((fromA * fsb) - (toB * fsa)) / (fsb - fsa)\n",
        "\n",
        "        if fs(cValue) == 0:\n",
        "            return cValue\n",
        "        if fs(fromA) * fs(cValue)> 0:\n",
        "            fromA = cValue\n",
        "            fsa= fs(cValue)\n",
        "        if fs(toB) * fs(cValue) > 0:\n",
        "            toB = cValue\n",
        "            fsb = fs(cValue)\n",
        "\n",
        "    return cValue\n",
        "\n",
        "\n",
        "fs = lambda x: x ** 3 - 2 * x -3\n",
        "\n",
        "fromA= 0\n",
        "toB= 2\n",
        "\n",
        "c = falsePoint(fs, fromA, toB)\n",
        "print(f\"The Approximate root is : {c} \")\n"
      ]
    }
  ]
}